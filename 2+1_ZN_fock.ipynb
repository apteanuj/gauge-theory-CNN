{
 "cells": [
  {
   "cell_type": "markdown",
   "metadata": {},
   "source": [
    "### Cluster config and example .sbatch script"
   ]
  },
  {
   "cell_type": "markdown",
   "metadata": {},
   "source": [
    "Slurm .sbatch file"
   ]
  },
  {
   "cell_type": "markdown",
   "metadata": {},
   "source": [
    "```bash\n",
    "#!/bin/bash\n",
    "\n",
    "#SBATCH --time=24:00:00               # Set the job time limit to 24 hours\n",
    "#SBATCH --partition=gpu               # Specify the GPU partition\n",
    "#SBATCH --gres=gpu:1                  # Request 1 GPU\n",
    "#SBATCH --constraint=v100             # Constrain job to run on V100 GPUs\n",
    "#SBATCH --nodes=1                     # Request 1 node\n",
    "#SBATCH --ntasks-per-node=2           # Run 2 tasks per node\n",
    "#SBATCH --mem-per-cpu=24000           # Request 24GB of memory per CPU\n",
    "#SBATCH --job-name=GENN               # Set the job name to GENN\n",
    "#SBATCH --account=pi-clayc            # Specify the account to charge\n",
    "#SBATCH --mail-type=ALL               # Send email notifications for all job events\n",
    "#SBATCH --mail-user=ashmore@rcc.uchicago.edu  # Email address for notifications\n",
    "#SBATCH --output=slurm-%j.out         # Set the initial output file name (%j is the job ID)\n",
    "\n",
    "# Parse named arguments\n",
    "# Usage: sbatch script_name.sbatch ZN=1 nx=2 start=3 stop=4 step_size=5\n",
    "for ARGUMENT in \"$@\"\n",
    "do\n",
    "    KEY=$(echo $ARGUMENT | cut -f1 -d=)\n",
    "    VALUE=$(echo $ARGUMENT | cut -f2 -d=)   \n",
    "\n",
    "    case \"$KEY\" in\n",
    "            ZN)              ZN=${VALUE} ;;\n",
    "            nx)              nx=${VALUE} ;;\n",
    "            start)           start=${VALUE} ;;\n",
    "            stop)            end=${VALUE} ;;\n",
    "            step_size)       step_size=${VALUE} ;;\n",
    "            *)   \n",
    "    esac    \n",
    "done\n",
    "\n",
    "# Define the custom output file name including job ID and parameters\n",
    "OUTPUT_FILE=\"slurm-${SLURM_JOB_ID}-ZN=${ZN}_nx=${nx}_start=${start}_stop=${end}_step=${step_size}.out\"\n",
    "\n",
    "# Rename the output file if we're in a Slurm job\n",
    "if [ -n \"$SLURM_JOB_ID\" ]; then\n",
    "    mv slurm-$SLURM_JOB_ID.out $OUTPUT_FILE\n",
    "fi\n",
    "\n",
    "# Set ulimit for locked memory to unlimited\n",
    "ulimit -l unlimited\n",
    "\n",
    "# Set up pyenv in read-only mode\n",
    "export PYENV_ROOT=\"/project/clayc/.pyenv\"\n",
    "export PATH=\"$PYENV_ROOT/versions/3.12.3/bin:$PATH\"\n",
    "\n",
    "# Print Python and pyenv versions to verify\n",
    "echo \"pyenv version: $($PYENV_ROOT/bin/pyenv --version)\"\n",
    "echo \"Python version: $(python --version)\"\n",
    "echo \"Python path: $(which python)\"\n",
    "\n",
    "# Print Python and pyenv versions to verify the setup\n",
    "module load openmpi/5.0.2\n",
    "\n",
    "# Set environment variables for CUDA and JAX\n",
    "export MPI4JAX_USE_CUDA_MPI=0\n",
    "export CUDA_VISIBLE_DEVICES=\"$(echo $CUDA_VISIBLE_DEVICES | cut -d ',' -f $(($SLURM_LOCALID+1)))\"\n",
    "export XLA_PYTHON_CLIENT_PREALLOCATE=false\n",
    "\n",
    "# Print GPU information\n",
    "nvidia-smi\n",
    "# mpirun -n 1 python -m netket.tools.check_mpi\n",
    "\n",
    "# Run the Python script with the parsed arguments\n",
    "python 2d_ZN_LxL.py --ZN $ZN --nx $nx --start $start --stop $end --step_size $step_size\n",
    "\n",
    "# Commented out MPI run command (if needed in the future)\n",
    "# mpirun -n 1 python 2d_ZN_LxL.py --ZN $ZN --nx $nx --start $start --stop $end --step_size $step_size\n",
    "```"
   ]
  },
  {
   "cell_type": "markdown",
   "metadata": {},
   "source": [
    "When running on cluster, we can pass various parameters as arguments to the slurm script."
   ]
  },
  {
   "cell_type": "code",
   "execution_count": 318,
   "metadata": {},
   "outputs": [],
   "source": [
    "import os\n",
    "import sys\n",
    "import argparse\n",
    "from argparse import Namespace\n",
    "\n",
    "def parse_arguments():\n",
    "    \"\"\"\n",
    "    Parse command line arguments for the 2D ZN LxL training.\n",
    "\n",
    "    Returns:\n",
    "        argparse.Namespace: Parsed command line arguments.\n",
    "    \"\"\"\n",
    "    parser = argparse.ArgumentParser(description='Run 2D ZN LxL training')\n",
    "    parser.add_argument('--ZN', type=int, required=True, help='ZN parameter')\n",
    "    parser.add_argument('--nx', type=int, required=True, help='nx parameter')\n",
    "    parser.add_argument('--start', type=float, required=True, help='g start value')\n",
    "    parser.add_argument('--stop', type=float, required=True, help='g end value')\n",
    "    parser.add_argument('--step_size', type=float, required=True, help='g step size')\n",
    "    return parser.parse_args()\n",
    "\n",
    "# Check if running in Jupyter\n",
    "if 'ipykernel' in sys.modules:\n",
    "    # If in Jupyter, set default values or the values you want to test\n",
    "    args = Namespace(ZN=2, nx=2, start=0.6, stop=0.5, step_size=0.1)\n",
    "else:\n",
    "    # If running as a script, use command line arguments\n",
    "    args = parse_arguments()"
   ]
  },
  {
   "cell_type": "markdown",
   "metadata": {},
   "source": [
    "If running on Google Colab, mount Google Drive folder here"
   ]
  },
  {
   "cell_type": "code",
   "execution_count": 319,
   "metadata": {},
   "outputs": [],
   "source": [
    "# from google.colab import drive\n",
    "# drive.mount('/content/drive/')"
   ]
  },
  {
   "cell_type": "markdown",
   "metadata": {},
   "source": [
    "### Collect inputs from slurm script"
   ]
  },
  {
   "cell_type": "code",
   "execution_count": 320,
   "metadata": {},
   "outputs": [
    {
     "name": "stdout",
     "output_type": "stream",
     "text": [
      "\n",
      "*********************************************\n",
      "Lattice size: 2 x 2\n",
      "N = 2\n",
      "Running on couplings from 0.6000 to 0.5000 in steps of 0.1000\n",
      "g = [0.6 0.5]\n",
      "*********************************************\n",
      "\n"
     ]
    }
   ],
   "source": [
    "# fix \"N\" in Z_N\n",
    "ZN = args.ZN\n",
    "\n",
    "# size of lattice\n",
    "nx = args.nx\n",
    "ny = nx\n",
    "\n",
    "# Get coupling range and step size from shell\n",
    "start = args.start\n",
    "stop = args.stop\n",
    "step_size = args.step_size\n",
    "\n",
    "import numpy as np\n",
    "\n",
    "# Calculate number of steps and create coupling range\n",
    "steps = abs(round((stop - start)/step_size)) + 1\n",
    "g_range = np.linspace(start, stop, steps)\n",
    "\n",
    "# Print simulation parameters\n",
    "print()\n",
    "print(\"*********************************************\")\n",
    "print(\"Lattice size:\", nx, \"x\", ny)\n",
    "print(\"N =\", ZN)\n",
    "print(\"Running on couplings from\",\"{:.4f}\".format(start),\"to\",\"{:.4f}\".format(stop),\"in steps of\",\"{:.4f}\".format(step_size))\n",
    "print(\"g =\", g_range)\n",
    "print(\"*********************************************\", end=\"\\n\\n\")"
   ]
  },
  {
   "cell_type": "markdown",
   "metadata": {},
   "source": [
    "### Hyperparameters and training/observables/saving choices"
   ]
  },
  {
   "cell_type": "markdown",
   "metadata": {},
   "source": [
    "Define model/sampler/training hyperparameters. Also whether to start from previous vstate, whether to train or just load a vstate for each coupling, which observables to compute, whether to save the vstates, and what data to save to .csv"
   ]
  },
  {
   "cell_type": "code",
   "execution_count": 321,
   "metadata": {},
   "outputs": [],
   "source": [
    "# PARAMETERS FOR MODEL\n",
    "\n",
    "# how many LCB layers?\n",
    "depth = int(np.ceil(np.log2(nx * ny)))\n",
    "# width of LCB layers?\n",
    "width = 4\n",
    "# shifts of LCB layers?\n",
    "shift = 2\n",
    "# number of dense layers at end?\n",
    "dense_features = ()*1\n",
    "\n",
    "####\n",
    "\n",
    "# PARAMETERS FOR TRAINING\n",
    "\n",
    "# initial learning rate?\n",
    "lr = 0.01\n",
    "# constant diagonal shift?\n",
    "diag_shift = 1e-4\n",
    "# max training iterations?\n",
    "iterations = 20\n",
    "# samples per iteration?\n",
    "n_samples = 4 * 1024\n",
    "\n",
    "# WHERE TO START TRAINING FROM\n",
    "\n",
    "# load previous vstate at start of training?\n",
    "load_previous_vstate = True\n",
    "# previous vstate dir\n",
    "previous_vstate_dir = 'vstates'\n",
    "# previous vstate name - no .mpack at end\n",
    "#previous_vstate_name_str = \"ZN=3_nx=2_ny=2_g=1.1_LConvBilin_layers=(4, 4)_shifts=(2, 2)_dense_features=()_n_samples=4096\"\n",
    "\n",
    "####\n",
    "\n",
    "# TRAIN AND/OR JUST COMPUTE OBSERVABLES?\n",
    "\n",
    "# do we train the model?\n",
    "train_model = True\n",
    "# do we load a previous model for each coupling?\n",
    "# either to train it further, or just use it to compute observabales\n",
    "load_trained_model = False\n",
    "# trained vstate dir\n",
    "trained_vstate_dir = 'vstates'\n",
    "# trained vstate name - give list of strings that will be converted to the variable when saving\n",
    "trained_vstate_name = ['ZN','nx','ny','g','LConvBilin_layers','shifts','dense_features','n_samples']\n",
    "# extra comment to add to end of vstate name\n",
    "trained_vstate_comment = ''\n",
    "\n",
    "####\n",
    "\n",
    "# WHICH OBSERVABLES TO COMPUTE\n",
    "\n",
    "# do we compute these observables? if we compute expectations, how many samples to use?\n",
    "# H\n",
    "compute_H = False\n",
    "n_samples_H = 8*4096\n",
    "# H, H_E, H_B\n",
    "compute_H_deriv = True\n",
    "n_samples_H_deriv = 8*4096\n",
    "# Creutz ratio\n",
    "compute_creutz = False\n",
    "n_samples_creutz = 8*4096\n",
    "# `t Hooft string\n",
    "compute_thooft = True\n",
    "n_samples_thooft = 8*4096\n",
    "thooft_x_length = int(nx / 2)\n",
    "thooft_y_length = 0\n",
    "\n",
    "####\n",
    "\n",
    "# WHAT DO WE SAVE?\n",
    "\n",
    "# save trained vstate?\n",
    "save_vstate = True\n",
    "# save vstate dir\n",
    "save_vstate_dir = 'vstates'\n",
    "# save vstate name - give list of strings that will be converted to the variable when saving\n",
    "save_vstate_name = ['ZN','nx','ny','g','LConvBilin_layers','shifts','dense_features','n_samples']\n",
    "# extra comment to add to end of vstate name\n",
    "save_vstate_comment = ''\n",
    "\n",
    "# save results?\n",
    "save_results = True\n",
    "# save results dir\n",
    "save_results_dir = 'data'\n",
    "# save results dir - give list of strings that will be converted to the variable when saving\n",
    "save_results_name = 'test_data'\n",
    "# save results dir - give list of strings that will be converted to the variable when saving\n",
    "save_results_vars = ['ZN', 'nx', 'ny', 'g', 'n_samples', 'iterations', 'H_mean', 'H_error', 'H_var', 'H_tau', 'H_E_mean', 'H_E_error', 'H_B_mean', 'H_B_error', 'n_samples_H_deriv', 'thooft_mean', 'thooft_error', 'thooft_tau', 'n_samples_thooft']"
   ]
  },
  {
   "cell_type": "markdown",
   "metadata": {},
   "source": [
    "### Load packages and set environment flags before loading netket"
   ]
  },
  {
   "cell_type": "markdown",
   "metadata": {},
   "source": [
    "Import MPI and check how many ranks / GPUs"
   ]
  },
  {
   "cell_type": "code",
   "execution_count": 322,
   "metadata": {},
   "outputs": [
    {
     "name": "stdout",
     "output_type": "stream",
     "text": [
      "Number of gpus: 0\n"
     ]
    }
   ],
   "source": [
    "from mpi4py import MPI\n",
    "\n",
    "# Get the rank of the current process\n",
    "rank = MPI.COMM_WORLD.Get_rank()\n",
    "\n",
    "# Print the number of GPUs (assuming one GPU per MPI process)\n",
    "print(\"Number of gpus:\", rank)"
   ]
  },
  {
   "cell_type": "markdown",
   "metadata": {},
   "source": [
    "Set various environment flags for NetKet, e.g. whether using CPU or GPU"
   ]
  },
  {
   "cell_type": "code",
   "execution_count": 323,
   "metadata": {},
   "outputs": [],
   "source": [
    "# Specify CPU or GPU for JAX operations\n",
    "if 'ipykernel' in sys.modules:\n",
    "    # If in Jupyter, use CPU\n",
    "    os.environ[\"JAX_PLATFORM_NAME\"] = \"cpu\"\n",
    "else:\n",
    "    # If not in Jupyter (e.g., on a cluster), use GPU\n",
    "    os.environ[\"JAX_PLATFORM_NAME\"] = \"gpu\"\n",
    "\n",
    "# Turn off float64 precision (currently commented out)\n",
    "# os.environ[\"NETKET_ENABLE_X64\"] = \"0\"\n",
    "\n",
    "# Enable experimental NetKet features\n",
    "os.environ[\"NETKET_EXPERIMENTAL\"] = \"1\"\n",
    "\n",
    "# Use more accurate calculation of tau in NetKet\n",
    "os.environ[\"NETKET_EXPERIMENTAL_FFT_AUTOCORRELATION\"] = \"1\"\n",
    "\n",
    "# Prevent JAX from preallocating GPU memory (commented out, typically used in Jupyter)\n",
    "# %env XLA_PYTHON_CLIENT_PREALLOCATE=false"
   ]
  },
  {
   "cell_type": "markdown",
   "metadata": {
    "id": "a9jkt3aMgdsJ"
   },
   "source": [
    "Import NetKet and check the version. Also load various packages that we need later."
   ]
  },
  {
   "cell_type": "code",
   "execution_count": 324,
   "metadata": {
    "colab": {
     "base_uri": "https://localhost:8080/"
    },
    "id": "dxNsXoFHgOX8",
    "outputId": "330aff5d-c3c5-4a2d-8599-0582f876f4ec"
   },
   "outputs": [
    {
     "name": "stdout",
     "output_type": "stream",
     "text": [
      "NetKet version: 3.12.1.dev42+g9d32802a\n",
      "0 -> [CpuDevice(id=0)]\n",
      "[CpuDevice(id=0)]\n"
     ]
    }
   ],
   "source": [
    "import jax\n",
    "\n",
    "# Check NetKet installation and print version\n",
    "import netket as nk\n",
    "print(f\"NetKet version: {nk.__version__}\")\n",
    "\n",
    "# Print available JAX devices for the current process\n",
    "print(f\"{rank} -> {jax.devices()}\")\n",
    "print(jax.devices())\n",
    "\n",
    "# Import necessary libraries\n",
    "import netket.experimental as nkx\n",
    "import functools\n",
    "from functools import partial\n",
    "import flax.linen as nn\n",
    "import numpy as np\n",
    "import jax.numpy as jnp\n",
    "import flax\n",
    "import optax\n",
    "import csv"
   ]
  },
  {
   "cell_type": "markdown",
   "metadata": {},
   "source": [
    "### Generate the lattice, etc."
   ]
  },
  {
   "cell_type": "markdown",
   "metadata": {
    "id": "9_kcPrcGRoyV"
   },
   "source": [
    "Generate the 2d lattice of sites and define the Hilbert spaces for the links"
   ]
  },
  {
   "cell_type": "code",
   "execution_count": 325,
   "metadata": {
    "colab": {
     "base_uri": "https://localhost:8080/",
     "height": 569
    },
    "id": "xkZPDeqrX8Mw",
    "outputId": "8eb1c4c5-ffa2-49c7-e51f-ceec1b27eb33"
   },
   "outputs": [
    {
     "name": "stdout",
     "output_type": "stream",
     "text": [
      "Total number of symmetries of lattice: 4\n"
     ]
    },
    {
     "data": {
      "image/png": "[encoded data removed]",
      "text/plain": [
       "<Figure size 640x480 with 1 Axes>"
      ]
     },
     "metadata": {},
     "output_type": "display_data"
    }
   ],
   "source": [
    "from netket.graph import Lattice\n",
    "\n",
    "# Define basis vectors for the lattice\n",
    "basis = np.array([\n",
    "    [0, 1],\n",
    "    [1, 0],\n",
    "])\n",
    "\n",
    "# Define custom edges for the lattice\n",
    "custom_edges = [\n",
    "    (0, 0, [1, 0], 0),\n",
    "    (0, 0, [0, 1], 1),\n",
    "]\n",
    "\n",
    "# Create a Lattice object with periodic boundary conditions\n",
    "graph = Lattice(basis_vectors=basis, pbc=True, extent=[ny, nx],\n",
    "                custom_edges=custom_edges)\n",
    "\n",
    "# Visualize the graph if running in Jupyter\n",
    "if 'ipykernel' in sys.modules:\n",
    "    graph.draw()\n",
    "\n",
    "# Print the total number of symmetries in the lattice\n",
    "print(\"Total number of symmetries of lattice:\", len(graph.automorphisms()))\n",
    "\n",
    "# Calculate the number of sites in the graph\n",
    "N_sites = graph.n_nodes\n",
    "\n",
    "# Calculate the number of links in the graph\n",
    "N_links = 2 * graph.n_nodes\n",
    "\n",
    "# Define a Hilbert space for the links\n",
    "# Fock(i) gives states (0,1,2,..,i) so we want Fock(N-1)\n",
    "hi = nk.hilbert.Fock(n_max=ZN-1)**(N_links)"
   ]
  },
  {
   "cell_type": "markdown",
   "metadata": {},
   "source": [
    "Generate the Hilbert space id's of the links for plaquettes and gauge operator"
   ]
  },
  {
   "cell_type": "code",
   "execution_count": 326,
   "metadata": {
    "colab": {
     "base_uri": "https://localhost:8080/"
    },
    "id": "P9at4oqyTFzh",
    "outputId": "d334a197-fbf7-493b-b747-51b15254f4a5"
   },
   "outputs": [],
   "source": [
    "# Define ranges for all link and site IDs\n",
    "link_ids = range(0, N_links)\n",
    "site_ids = range(0, N_sites)\n",
    "\n",
    "# Define ranges for x and y link IDs\n",
    "# x links are first N_sites elements of Hilbert space, y links are next N_sites elements of Hilbert space\n",
    "x_link_ids = range(0, N_sites)\n",
    "y_link_ids = range(N_sites, 2 * N_sites)\n",
    "\n",
    "# Helper data for computing Hilbert space IDs of plaquettes and gauge operator links\n",
    "\n",
    "# x-link at site at position [i,j]\n",
    "x_i_j = graph.id_from_position(graph.positions)\n",
    "# y-link at site at position [i+1,j]\n",
    "y_ip1_j = graph.id_from_position(graph.positions + [1.,0.]) + N_sites\n",
    "# x-link at site at position [i,j+1]\n",
    "x_i_jp1 = graph.id_from_position(graph.positions + [0.,1.])\n",
    "# y-link at site at position [i,j]\n",
    "y_i_j = graph.id_from_position(graph.positions) + N_sites\n",
    "# x-link at site at position [i-1,j]\n",
    "x_im1_j = graph.id_from_position(graph.positions + [-1.,0.])\n",
    "# y-link at site at position [i,j-1]\n",
    "y_i_jm1 = graph.id_from_position(graph.positions + [0.,-1.]) + N_sites\n",
    "\n",
    "# Create list of plaquette IDs\n",
    "# Each tuple contains the Hilbert space ID for the links in a plaquette\n",
    "# Links are ordered so that at site i, you get the link to the right first,\n",
    "# then the rest going anticlockwise\n",
    "plaq_ids = [(i,j,k,l) for i,j,k,l in zip(x_i_j, y_ip1_j, x_i_jp1, y_i_j)]\n",
    "\n",
    "# Create list of gauge IDs\n",
    "# Each tuple contains the Hilbert space ID for the links associated to each site\n",
    "# (for gauge operator), first to the right, then above and so on anticlockwise\n",
    "gauge_ids = [(i,j,k,l) for i,j,k,l in zip(x_i_j, y_i_j, x_im1_j, y_i_jm1)]"
   ]
  },
  {
   "cell_type": "markdown",
   "metadata": {
    "id": "ZHM9G3ZnhS4Z"
   },
   "source": [
    "Now generate a random states to check everything is working"
   ]
  },
  {
   "cell_type": "code",
   "execution_count": 327,
   "metadata": {
    "colab": {
     "base_uri": "https://localhost:8080/"
    },
    "id": "DuH0UwpBhRch",
    "outputId": "1195ae7b-e284-4632-b0cc-95b1287fb991"
   },
   "outputs": [
    {
     "name": "stdout",
     "output_type": "stream",
     "text": [
      "[0. 0. 0. 1. 1. 1. 1. 0.]\n"
     ]
    }
   ],
   "source": [
    "# Generate and print a random state from the Hilbert space\n",
    "print(hi.random_state(key=jax.random.PRNGKey(0)))"
   ]
  },
  {
   "cell_type": "markdown",
   "metadata": {
    "id": "WCjy6MV2-XP7"
   },
   "source": [
    "### Define Hamiltonian for $\\mathbb{Z}_N$ system"
   ]
  },
  {
   "cell_type": "markdown",
   "metadata": {
    "id": "FNvpzMcyScRK"
   },
   "source": [
    "Clock and shift operators match with $Q$ and $P$ from 2008.00882."
   ]
  },
  {
   "cell_type": "code",
   "execution_count": 328,
   "metadata": {},
   "outputs": [],
   "source": [
    "# Import custom ZN modules\n",
    "import ZN_operators\n",
    "import ZN_functions\n",
    "import ZN_nn_layers\n",
    "import ZN_thooft\n",
    "import ZN_wilson\n",
    "\n",
    "# Set lattice size in the imported ZN_functions module\n",
    "ZN_functions.nx = nx\n",
    "ZN_functions.ny = ny"
   ]
  },
  {
   "cell_type": "markdown",
   "metadata": {},
   "source": [
    "Code to reload operators if their definitions have changed - useful when prototyping in a notebook!"
   ]
  },
  {
   "cell_type": "code",
   "execution_count": 329,
   "metadata": {},
   "outputs": [],
   "source": [
    "# Check if running in a Jupyter environment\n",
    "if 'ipykernel' in sys.modules:\n",
    "    # Import the reload function from importlib\n",
    "    from importlib import reload\n",
    "    \n",
    "    # Reload custom modules to ensure the latest versions are used\n",
    "    ZN_operators = reload(ZN_operators)\n",
    "    ZN_nn_layers = reload(ZN_nn_layers)\n",
    "    ZN_functions = reload(ZN_functions)\n",
    "    ZN_thooft = reload(ZN_thooft)\n",
    "    ZN_wilson = reload(ZN_wilson)"
   ]
  },
  {
   "cell_type": "markdown",
   "metadata": {
    "id": "JlkFWd6dDmO-"
   },
   "source": [
    "Hamiltonian for $\\mathbb{Z}_N$ gauge theory from 2008.00882. Includes constant shift terms which move energy by $+L^2 (g^2 + 1/g^2)$, where $L^2$ is number of lattice sites. Here we also specify the coupling $g$."
   ]
  },
  {
   "cell_type": "code",
   "execution_count": 330,
   "metadata": {
    "id": "NkqqHtErDl0Q"
   },
   "outputs": [],
   "source": [
    "# Define the full Hamiltonian as a function of coupling g\n",
    "H_g = partial(ZN_operators.Hamiltonian_ZN, hilbert=hi, plaq_ids=plaq_ids, link_ids=link_ids)\n",
    "\n",
    "# Define the electric part of the Hamiltonian as a function of coupling g\n",
    "H_E_g = partial(ZN_operators.Hamiltonian_ZN_electric, hilbert=hi, plaq_ids=plaq_ids, link_ids=link_ids)\n",
    "\n",
    "# Define the magnetic part of the Hamiltonian as a function of coupling g\n",
    "H_B_g = partial(ZN_operators.Hamiltonian_ZN_magnetic, hilbert=hi, plaq_ids=plaq_ids, link_ids=link_ids)"
   ]
  },
  {
   "cell_type": "markdown",
   "metadata": {
    "id": "qr0h3CImn2F-"
   },
   "source": [
    "$\\mathbb{Z}_N$ gauge operator. Define $\\Theta_x = P_{x,\\mu} P_{x,\\nu} P^\\dagger_{x-\\mu,\\mu} P^\\dagger_{x-\\nu,\\nu}$. The gauge invariance condition is then $\\Theta_x |\\Psi\\rangle = \\pm |\\Psi\\rangle$ with the same choice of sign for all $x$. We can then impose this as a positive definite condition as $(\\Theta-1)(\\Theta^\\dagger - 1) = $ on gauge invariant states. We can use this as a check that our neural network is giving a gauge-invariant output."
   ]
  },
  {
   "cell_type": "code",
   "execution_count": 331,
   "metadata": {},
   "outputs": [],
   "source": [
    "# Define the gauge operator\n",
    "# This should give +-(N_sites) on a gauge invariant state\n",
    "gauge = ZN_operators.gauge_ZN(hi, gauge_ids)\n",
    "\n",
    "# Define the gauge zero operator\n",
    "# This should give 0 on a gauge invariant state\n",
    "gauge_zero = ZN_operators.gauge_zero_ZN(hi, gauge_ids)"
   ]
  },
  {
   "cell_type": "markdown",
   "metadata": {},
   "source": [
    "### Define model, sampler, vstate"
   ]
  },
  {
   "cell_type": "markdown",
   "metadata": {},
   "source": [
    "Define model/sampler/vstate parameters that we likely won't change from run to run"
   ]
  },
  {
   "cell_type": "code",
   "execution_count": 332,
   "metadata": {},
   "outputs": [],
   "source": [
    "# Network architecture parameters\n",
    "LConvBilin_layers = (width,) * depth\n",
    "shifts = (shift,) * depth\n",
    "\n",
    "# Initial standard deviation for weights (not used if LSUV is used)\n",
    "stddev = 0.001\n",
    "\n",
    "# MCMC parameters\n",
    "n_chains_per_rank = 128  # Number of MCMC chains per rank\n",
    "n_sweeps = N_links  # Number of MCMC sweeps\n",
    "n_discard_per_chain = 10  # Number of samples to discard per chain\n",
    "\n",
    "# Training parameters\n",
    "lr_schedule = optax.linear_schedule(init_value=lr, end_value=0, transition_steps=iterations)\n",
    "lr_schedule = optax.exponential_decay(init_value=lr, transition_steps=100, decay_rate=0.333, staircase=True)\n",
    "clip = optax.clip_by_global_norm(max_norm=0.1*1/lr)\n",
    "\n",
    "diag_shift_decay = 1.  # Not used\n",
    "early_stopping = N_sites * 0.000125  # Early stopping threshold based on energy sample variance\n",
    "reset_vstate = False  # Whether to reset the variational state when changing coupling\n",
    "is_holomorphic = False  # Assume variational state is holomorphic as a function of weights\n",
    "precision = 'double'  # Precision for network calculations ('double' or 'single')\n",
    "chunk_size = 4096  # Chunk size for processing\n",
    "\n",
    "# Early stopping parameters\n",
    "patience = 100  # Number of iterations to wait before early stopping\n",
    "smoothing_window = 10  # Window size for smoothing the variance for early stopping"
   ]
  },
  {
   "cell_type": "markdown",
   "metadata": {},
   "source": [
    "If we are loading a previous vstate, we can change the various parameters to match (in case we didn't set them correctly above!)"
   ]
  },
  {
   "cell_type": "code",
   "execution_count": 335,
   "metadata": {},
   "outputs": [],
   "source": [
    "# this loads the previous vstate by using the last value of the coupling \n",
    "if stop > start:\n",
    "    previous_vstate_name_str = 'ZN='+str(ZN)+'_nx='+str(nx)+'_ny='+str(ny)+'_g='+f\"{start-step_size:.4f}\"+'_LConvBilin_layers='+str(LConvBilin_layers)+'_shifts='+str(shifts)+'_dense_features='+str(dense_features)+'_n_samples='+str(n_samples)\n",
    "elif start > stop:\n",
    "    previous_vstate_name_str = 'ZN='+str(ZN)+'_nx='+str(nx)+'_ny='+str(ny)+'_g='+f\"{start+step_size:.4f}\"+'_LConvBilin_layers='+str(LConvBilin_layers)+'_shifts='+str(shifts)+'_dense_features='+str(dense_features)+'_n_samples='+str(n_samples)"
   ]
  },
  {
   "cell_type": "code",
   "execution_count": 336,
   "metadata": {},
   "outputs": [],
   "source": [
    "if load_previous_vstate:\n",
    "    # Load dictionary of previous model, sampler and vstate parameters\n",
    "    load_params = ZN_functions.load_model_params(previous_vstate_dir, previous_vstate_name_str)\n",
    "\n",
    "    # Verify that the Hilbert space matches\n",
    "    assert str(hi) == load_params['sampler']['hilbert'], \"Hilbert spaces do not match!\"\n",
    "\n",
    "    # Verify that Z_N matches\n",
    "    assert str(ZN) == load_params['model']['N'], \"Z_N does not match!\"\n",
    "\n",
    "    # Load model parameters\n",
    "    LConvBilin_layers = eval(load_params['model']['N_out'])\n",
    "    shifts = eval(load_params['model']['shifts'])\n",
    "    dense_features = eval(load_params['model']['features'])\n",
    "    precision = eval(load_params['model']['precision'])\n",
    "\n",
    "    # Load sampler parameters\n",
    "    n_chains_per_rank = eval(load_params['sampler']['n_chains'])\n",
    "    n_sweeps = eval(load_params['sampler']['sweep_size'])\n",
    "\n",
    "    # Load variational state parameters\n",
    "    n_samples = eval(load_params['vstate']['_n_samples'])\n",
    "    n_discard_per_chain = eval(load_params['vstate']['_n_discard_per_chain'])\n",
    "    chunk_size = eval(load_params['vstate']['_chunk_size'])"
   ]
  },
  {
   "cell_type": "markdown",
   "metadata": {},
   "source": [
    "Define the model, sampler and vstate"
   ]
  },
  {
   "cell_type": "code",
   "execution_count": 337,
   "metadata": {},
   "outputs": [
    {
     "name": "stderr",
     "output_type": "stream",
     "text": [
      "/home/netket_backup/lib/python3.10/site-packages/netket/sampler/metropolis.py:303: FutureWarning: Specifying `n_sweeps` when constructing sampler is deprecated. Please use `sweep_size` instead.\n",
      "  warn_deprecation(\n"
     ]
    },
    {
     "name": "stdout",
     "output_type": "stream",
     "text": [
      "Created double-precision LCB model for Z_N = 2 with LCB = (4, 4), shifts = (2, 2), and dense = ()\n",
      "Created Metropolis sampler with 128 MCMC chains and 8 sweeps per sample\n",
      "Create variational state with 4096 samples per batch in chunks of 4096, with 10 samples discarded per chain (80 including sweeps)\n",
      "Number of parameters in model: 1613\n"
     ]
    }
   ],
   "source": [
    "# Define the neural network model\n",
    "model = ZN_nn_layers.MultiLConvBilinShiftsVariance(N=ZN, N_out=LConvBilin_layers, shifts=shifts, features=dense_features, precision=precision)\n",
    "\n",
    "# Define the Metropolis-Hastings sampler\n",
    "sampler = nk.sampler.MetropolisLocal(hi, n_chains_per_rank=n_chains_per_rank, dtype=jnp.int8, n_sweeps=n_sweeps)\n",
    "\n",
    "# Define the variational quantum state\n",
    "vstate = nk.vqs.MCState(sampler, model, n_samples=n_samples, n_discard_per_chain=n_discard_per_chain, chunk_size=chunk_size)\n",
    "\n",
    "# Print information about the model, sampler, and variational state\n",
    "print(\"Created \"+precision+\"-precision LCB model for Z_N = \"+str(ZN)+\" with LCB = \"+str(LConvBilin_layers)+\", shifts = \"+str(shifts)+\", and dense = \"+str(dense_features))\n",
    "print(\"Created Metropolis sampler with \"+str(n_chains_per_rank)+\" MCMC chains and \"+str(n_sweeps)+\" sweeps per sample\")\n",
    "print(\"Create variational state with \"+str(n_samples)+\" samples per batch in chunks of \"+str(chunk_size)+\", with \"+str(n_discard_per_chain)+\" samples discarded per chain (\"+str(n_sweeps*n_discard_per_chain)+\" including sweeps)\")\n",
    "print(\"Number of parameters in model:\", vstate.n_parameters)"
   ]
  },
  {
   "cell_type": "markdown",
   "metadata": {},
   "source": [
    "Initialise the variational state using LSUV from 1511.06422"
   ]
  },
  {
   "cell_type": "code",
   "execution_count": 338,
   "metadata": {},
   "outputs": [
    {
     "name": "stdout",
     "output_type": "stream",
     "text": [
      "Initialising vstate via LSUV\n"
     ]
    }
   ],
   "source": [
    "# Initialize variational state parameters with random normal distribution\n",
    "stddev_init = 0.01\n",
    "vstate.init_parameters(nn.initializers.normal(stddev=stddev_init), seed=1)\n",
    "\n",
    "# Generate a random key and create a batch of random states\n",
    "key = jax.random.PRNGKey(1)\n",
    "x = hi.random_state(key=key, size=chunk_size)\n",
    "\n",
    "# Initialize the variational state using Layer-Sequential Unit-Variance (LSUV) initialization\n",
    "vstate.parameters = ZN_functions.initialise_vstate(vstate, model, width, x, key, stddev_init)"
   ]
  },
  {
   "cell_type": "markdown",
   "metadata": {},
   "source": [
    "If we have specified we want to start from a previous vstate, load it here"
   ]
  },
  {
   "cell_type": "code",
   "execution_count": 339,
   "metadata": {},
   "outputs": [
    {
     "name": "stdout",
     "output_type": "stream",
     "text": [
      "Opened vstate from vstates/ZN=2_nx=2_ny=2_g=0.7000_LConvBilin_layers=(4, 4)_shifts=(2, 2)_dense_features=()_n_samples=4096.mpack\n",
      "\n"
     ]
    }
   ],
   "source": [
    "# Load a previously saved variational state if specified\n",
    "if load_previous_vstate:\n",
    "    vstate = ZN_functions.load_vstate(vstate, previous_vstate_dir, previous_vstate_name_str)"
   ]
  },
  {
   "cell_type": "markdown",
   "metadata": {},
   "source": [
    "Loop over couplings, train, compute observables, save vstate/results, etc."
   ]
  },
  {
   "cell_type": "code",
   "execution_count": null,
   "metadata": {
    "scrolled": true
   },
   "outputs": [
    {
     "name": "stderr",
     "output_type": "stream",
     "text": [
      "/tmp/ipykernel_3398/2916689882.py:20: UnoptimalSRtWarning: \n",
      "You are in the case n_samples > num_params (4096 > 1613),\n",
      "for which the `VMC_SRt` is not optimal. Consider using `netket.driver.VMC`\n",
      "with the preconditioner `nk.optimizer.SR` to achieve the same parameter dynamics,\n",
      "but with improved speed.\n",
      "\n",
      "\n",
      "-------------------------------------------------------\n",
      "For more detailed informations, visit the following link:\n",
      "\t https://netket.readthedocs.io/en/latest/api/_generated/errors/netket.errors.UnoptimalSRtWarning.html\n",
      "or the list of all common errors and warnings at\n",
      "\t https://netket.readthedocs.io/en/latest/api/errors.html\n",
      "-------------------------------------------------------\n",
      "\n",
      "  gs = nkx.driver.VMC_SRt(H, optimizer, diag_shift=diag_shift, variational_state=vstate, jacobian_mode=\"complex\", linear_solver_fn=ZN_functions.linear_solver_exact)\n"
     ]
    },
    {
     "name": "stdout",
     "output_type": "stream",
     "text": [
      "*********************************************\n",
      "Saving current vstate parameters\n",
      "\n",
      "Training for g = 0.6\n"
     ]
    },
    {
     "name": "stderr",
     "output_type": "stream",
     "text": [
      " 15%|████▉                            | 3/20 [00:22<02:04,  7.30s/it, Energy=2.922-0.004j ± 0.026 [σ²=2.031, R̂=1.0263]]"
     ]
    }
   ],
   "source": [
    "for g in g_range:\n",
    "    \n",
    "    # define Hamiltonian for fixed coupling g\n",
    "    H = H_g(g)\n",
    "\n",
    "    # Load a previously trained model for each g if specified\n",
    "    if load_trained_model:\n",
    "        trained_vstate_name_str = ZN_functions.get_name(trained_vstate_name, locals()) + trained_vstate_comment\n",
    "        vstate = ZN_functions.load_vstate(vstate, trained_vstate_dir, trained_vstate_name_str)\n",
    "\n",
    "    \n",
    "    # Train the model if specified\n",
    "    if train_model:\n",
    "        \n",
    "        # Build optimizer with linear learning rate schedule\n",
    "        optimizer = nk.optimizer.Sgd(learning_rate=lr_schedule)\n",
    "        optimizer = optax.chain(optax.zero_nans(), clip, optimizer)\n",
    "    \n",
    "        # Build driver using VMC_SRt\n",
    "        gs = nkx.driver.VMC_SRt(H, optimizer, diag_shift=diag_shift, variational_state=vstate, jacobian_mode=\"complex\", linear_solver_fn=ZN_functions.linear_solver_exact)\n",
    "    \n",
    "        # Save current parameters of vstate for potential restart\n",
    "        current_parameters = flax.core.copy(vstate.parameters, {})\n",
    "        \n",
    "        print(\"*********************************************\")\n",
    "        print(\"Saving current vstate parameters\", end=\"\\n\\n\")\n",
    "        print(\"Training for g =\", str(g))\n",
    "    \n",
    "        # Run driver with callbacks for convergence and invalid loss stopping\n",
    "        gs.run(n_iter=iterations, callback=[nk.callbacks.ConvergenceStopping(monitor=\"variance\", target=early_stopping, patience=patience, smoothing_window=smoothing_window), nk.callbacks.InvalidLossStopping(monitor=\"mean\", patience=3)])\n",
    "\n",
    "        print(\"Training finished\", end=\"\\n\\n\")\n",
    "\n",
    "    \n",
    "    # TODO - add loop to check that training hasn't diverged\n",
    "\n",
    "    \n",
    "    # Compute Hamiltonian expectation if specified\n",
    "    if compute_H:\n",
    "        # compute observable\n",
    "        H_expect, = ZN_functions.compute_observables(['H'], vstate, n_samples_H, locals())\n",
    "\n",
    "        # save stats to nicely named variables\n",
    "        H_mean, H_error, H_var, H_Rhat, H_tau = jnp.real(H_expect.mean), jnp.real(H_expect.error_of_mean), jnp.real(H_expect.variance), jnp.real(H_expect.R_hat), jnp.real(H_expect.tau_corr)\n",
    "\n",
    "    \n",
    "    # Compute Hamiltonian derivatives if specified\n",
    "    if compute_H_deriv:\n",
    "        # get electric and magnetic parts of H for fixed coupling g\n",
    "        H_E = H_E_g(g)\n",
    "        H_B = H_B_g(g)\n",
    "    \n",
    "        # compute observables - may as well compute <H> too here\n",
    "        H_expect, H_E_expect, H_B_expect = ZN_functions.compute_observables(['H','H_E','H_B'], vstate, n_samples_H_deriv, locals())\n",
    "\n",
    "        # save stats to nicely named variables\n",
    "        H_mean, H_error, H_var, H_Rhat, H_tau = jnp.real(H_expect.mean), jnp.real(H_expect.error_of_mean), jnp.real(H_expect.variance), jnp.real(H_expect.R_hat), jnp.real(H_expect.tau_corr)\n",
    "        H_E_mean, H_E_error, H_E_var, H_E_Rhat, H_E_tau = jnp.real(H_E_expect.mean), jnp.real(H_E_expect.error_of_mean), jnp.real(H_E_expect.variance), jnp.real(H_E_expect.R_hat), jnp.real(H_E_expect.tau_corr)\n",
    "        H_B_mean, H_B_error, H_B_var, H_B_Rhat, H_B_tau = jnp.real(H_B_expect.mean), jnp.real(H_B_expect.error_of_mean), jnp.real(H_B_expect.variance), jnp.real(H_B_expect.R_hat), jnp.real(H_B_expect.tau_corr)\n",
    "\n",
    "    \n",
    "    # Compute 't Hooft string if specified\n",
    "    if compute_thooft:\n",
    "        # sum of `t Hooft string operators (so we get the lattice average)\n",
    "        thooft_lat_avg = ZN_thooft.tHooftString_lattice_average(hi, graph, x_length=thooft_x_length, y_length=thooft_y_length)\n",
    "    \n",
    "        # compute observables - may as well compute <H> too here\n",
    "        thooft_expect, = ZN_functions.compute_observables(['thooft_lat_avg'], vstate, n_samples_thooft, locals())\n",
    "\n",
    "        # save stats to nicely named variables\n",
    "        thooft_mean, thooft_error, thooft_var, thooft_Rhat, thooft_tau = jnp.real(thooft_expect.mean), jnp.real(thooft_expect.error_of_mean), jnp.real(thooft_expect.variance), jnp.real(thooft_expect.R_hat), jnp.real(thooft_expect.tau_corr)\n",
    "    \n",
    "\n",
    "    # Compute Creutz ratio if specified\n",
    "    if compute_creutz:\n",
    "        # set new n_samples for Creutz\n",
    "        vstate.n_samples = n_samples_creutz\n",
    "    \n",
    "        # compute lattice average of creutz\n",
    "        creutz, creutz_error = ZN_wilson.compute_Creutz_ratio_lattice_average(vstate, hi, graph, 2)\n",
    "    \n",
    "        # reset n_samples\n",
    "        vstate.n_samples = n_samples\n",
    "\n",
    "    \n",
    "    # Save the vstate and its parameters if specified\n",
    "    if save_vstate:\n",
    "        save_vstate_name_str = ZN_functions.get_name(save_vstate_name, locals()) + save_vstate_comment\n",
    "        ZN_functions.save_model_params(model, sampler, vstate, save_vstate_dir, save_vstate_name_str)\n",
    "        ZN_functions.save_vstate(vstate, save_vstate_dir, save_vstate_name_str)\n",
    "\n",
    "    \n",
    "    # Save the results if specified\n",
    "    if save_results:\n",
    "        save_results_values = [eval(result_name) for result_name in save_results_vars]\n",
    "        ZN_functions.save_results(save_results_vars, save_results_values, save_results_dir, save_results_name)\n",
    "\n",
    "    \n",
    "    print(\"*********************************************\", end=\"\\n\\n\")"
   ]
  }
 ],
 "metadata": {
  "colab": {
   "provenance": []
  },
  "kernelspec": {
   "display_name": "Python 3 (ipykernel)",
   "language": "python",
   "name": "python3"
  },
  "language_info": {
   "codemirror_mode": {
    "name": "ipython",
    "version": 3
   },
   "file_extension": ".py",
   "mimetype": "text/x-python",
   "name": "python",
   "nbconvert_exporter": "python",
   "pygments_lexer": "ipython3",
   "version": "3.10.12"
  }
 },
 "nbformat": 4,
 "nbformat_minor": 4
}
